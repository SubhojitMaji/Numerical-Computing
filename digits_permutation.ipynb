{
 "cells": [
  {
   "cell_type": "code",
   "execution_count": 2,
   "metadata": {},
   "outputs": [
    {
     "name": "stdout",
     "output_type": "stream",
     "text": [
      "3816547290\n"
     ]
    }
   ],
   "source": [
    "import itertools\n",
    "digits = [0,1,2,3,4,5,6,7,8,9]\n",
    "permutations = list(itertools.permutations(digits))\n",
    "for perm in permutations:\n",
    "    i =0\n",
    "    k=0\n",
    "    counter = 0\n",
    "    for j in perm:\n",
    "        k=k+1\n",
    "        i=i*10+j\n",
    "        if i%k == 0:\n",
    "            counter = counter+1\n",
    "    if counter== 10:\n",
    "        print (i)"
   ]
  },
  {
   "cell_type": "code",
   "execution_count": null,
   "metadata": {},
   "outputs": [],
   "source": []
  }
 ],
 "metadata": {
  "kernelspec": {
   "display_name": "Python 3 (ipykernel)",
   "language": "python",
   "name": "python3"
  }
 },
 "nbformat": 4,
 "nbformat_minor": 2
}
