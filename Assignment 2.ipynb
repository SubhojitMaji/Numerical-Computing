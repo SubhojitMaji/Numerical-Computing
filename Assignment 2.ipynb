{
 "cells": [
  {
   "cell_type": "markdown",
   "metadata": {},
   "source": [
    "# CHAPTER 3"
   ]
  },
  {
   "cell_type": "markdown",
   "metadata": {},
   "source": [
    "Q2."
   ]
  },
  {
   "cell_type": "code",
   "execution_count": 1,
   "metadata": {},
   "outputs": [
    {
     "data": {
      "text/plain": [
       "7"
      ]
     },
     "execution_count": 1,
     "metadata": {},
     "output_type": "execute_result"
    }
   ],
   "source": [
    "def my_mult_operation(a, b, operation):\n",
    "    if operation == \"plus\":\n",
    "        return a + b\n",
    "    elif operation == \"minus\":\n",
    "        return a - b\n",
    "    elif operation == \"mult\":\n",
    "        return a * b\n",
    "    elif operation == \"div\":\n",
    "        if b == 0:\n",
    "            return None  # Handle division by zero\n",
    "        return a / b\n",
    "    elif operation == \"pow\":\n",
    "        return a ** b\n",
    "    else:\n",
    "        return None\n",
    "    \n",
    "my_mult_operation(5,2,\"plus\")"
   ]
  },
  {
   "cell_type": "markdown",
   "metadata": {},
   "source": [
    "Q3."
   ]
  },
  {
   "cell_type": "code",
   "execution_count": 2,
   "metadata": {},
   "outputs": [
    {
     "data": {
      "text/plain": [
       "'outside'"
      ]
     },
     "execution_count": 2,
     "metadata": {},
     "output_type": "execute_result"
    }
   ],
   "source": [
    "def my_inside_triangle(x, y):\n",
    "    if x < 0 or y < 0 or x + y > 1:\n",
    "        return \"outside\"\n",
    "    elif x == 0 or y == 0 or x + y == 1:\n",
    "        return \"border\"\n",
    "    else:\n",
    "        return \"inside\"\n",
    "    \n",
    "my_inside_triangle(2,0)"
   ]
  },
  {
   "cell_type": "markdown",
   "metadata": {},
   "source": [
    "Q8."
   ]
  },
  {
   "cell_type": "code",
   "execution_count": 3,
   "metadata": {},
   "outputs": [
    {
     "data": {
      "text/plain": [
       "(-2, [(-0.5-0.8660254037844386j), (-0.5+0.8660254037844386j)])"
      ]
     },
     "execution_count": 3,
     "metadata": {},
     "output_type": "execute_result"
    }
   ],
   "source": [
    "import cmath  # Import for complex math\n",
    "\n",
    "def my_n_roots(a, b, c):\n",
    "\n",
    "    delta = (b**2) - 4*(a*c)\n",
    "\n",
    "    if delta > 0:\n",
    "        n_roots = 2\n",
    "        r1 = (-b - delta**0.5) / (2*a)\n",
    "        r2 = (-b + delta**0.5) / (2*a)\n",
    "        r = [r1, r2]\n",
    "    elif delta == 0:\n",
    "        n_roots = 1\n",
    "        r = [-b / (2*a)]\n",
    "    else:  # delta < 0\n",
    "        n_roots = -2 #-2 represents that it has 2 imaginary roots.\n",
    "        r1 = (-b - cmath.sqrt(delta)) / (2 * a)\n",
    "        r2 = (-b + cmath.sqrt(delta)) / (2 * a)\n",
    "        r = [r1, r2]\n",
    "    return n_roots, r\n",
    "\n",
    "my_n_roots(1,1,1)"
   ]
  },
  {
   "cell_type": "markdown",
   "metadata": {},
   "source": [
    "Q9."
   ]
  },
  {
   "cell_type": "code",
   "execution_count": 4,
   "metadata": {},
   "outputs": [
    {
     "data": {
      "text/plain": [
       "7"
      ]
     },
     "execution_count": 4,
     "metadata": {},
     "output_type": "execute_result"
    }
   ],
   "source": [
    "def f(x):\n",
    "    return x**2\n",
    "\n",
    "def g(x):\n",
    "    return 2*x + 1\n",
    "\n",
    "def my_split_function(f, g, a, b, x):\n",
    "    if x <= a:\n",
    "        return f(x)\n",
    "    elif x >= b:\n",
    "        return g(x)\n",
    "    else:\n",
    "        return 0\n",
    "\n",
    "my_split_function(f,g,1,2,3)"
   ]
  },
  {
   "cell_type": "markdown",
   "metadata": {},
   "source": [
    "# CHAPTER 5"
   ]
  },
  {
   "cell_type": "markdown",
   "metadata": {},
   "source": [
    "Q4."
   ]
  },
  {
   "cell_type": "code",
   "execution_count": 5,
   "metadata": {},
   "outputs": [
    {
     "name": "stdout",
     "output_type": "stream",
     "text": [
      "[[1 2 3]\n",
      " [4 5 6]]\n",
      "[[ 0.54030231  0.90929743 -0.9899925 ]\n",
      " [-0.7568025   0.28366219 -0.2794155 ]]\n"
     ]
    }
   ],
   "source": [
    "import numpy as np\n",
    "\n",
    "def my_trig_odd_even(m):\n",
    "    if not isinstance(m, np.ndarray):\n",
    "      return None\n",
    "    q = np.zeros_like(m, dtype=float)  # Initialize q with the same shape and float type\n",
    "    for i in range(m.shape[0]):\n",
    "        for j in range(m.shape[1]):\n",
    "            if m[i, j] % 2 == 0:  # Check if even\n",
    "                q[i, j] = np.sin(m[i, j])\n",
    "            else:  # If odd\n",
    "                q[i, j] = np.cos(m[i, j])\n",
    "    return q\n",
    "m = np.array([[1, 2, 3], [4, 5, 6]])\n",
    "q = my_trig_odd_even(m)\n",
    "print(m)\n",
    "print(q)"
   ]
  },
  {
   "cell_type": "markdown",
   "metadata": {},
   "source": [
    "Q5."
   ]
  },
  {
   "cell_type": "code",
   "execution_count": 6,
   "metadata": {},
   "outputs": [
    {
     "name": "stdout",
     "output_type": "stream",
     "text": [
      "Matrix P:\n",
      " [[1 2]\n",
      " [3 4]]\n",
      "Matrix Q:\n",
      " [[1 0]\n",
      " [0 1]]\n",
      "Matrix Product M (P * Q):\n",
      " [[1. 2.]\n",
      " [3. 4.]]\n"
     ]
    }
   ],
   "source": [
    "def my_mat_mult(P, Q):\n",
    "    if not isinstance(P, np.ndarray) or not isinstance(Q, np.ndarray):\n",
    "        return None\n",
    "\n",
    "    m = P.shape[0]  # Number of rows in P\n",
    "    p = P.shape[1]  # Number of columns in P\n",
    "    q_rows = Q.shape[0] #Number of rows in Q\n",
    "    n = Q.shape[1]  # Number of columns in Q\n",
    "    \n",
    "    if p != q_rows:  # Check if matrices can be multiplied\n",
    "        return None\n",
    "\n",
    "    M = np.zeros((m, n))  # Initialize the result matrix M with zeros\n",
    "\n",
    "    for i in range(m):      # Iterate through rows of P (and rows of M)\n",
    "        for j in range(n):  # Iterate through columns of Q (and columns of M)\n",
    "            for k in range(p):  # Iterate through columns of P and rows of Q\n",
    "                M[i, j] += P[i, k] * Q[k, j]\n",
    "\n",
    "    return M\n",
    "P = np.array([[1, 2], [3, 4]])\n",
    "Q = np.array([[1, 0], [0, 1]])\n",
    "M = my_mat_mult(P, Q)\n",
    "print(\"Matrix P:\\n\",P)\n",
    "print(\"Matrix Q:\\n\",Q)\n",
    "print(\"Matrix Product M (P * Q):\\n\", M)\n"
   ]
  },
  {
   "cell_type": "markdown",
   "metadata": {},
   "source": [
    "Q8."
   ]
  },
  {
   "cell_type": "code",
   "execution_count": 7,
   "metadata": {},
   "outputs": [
    {
     "name": "stdout",
     "output_type": "stream",
     "text": [
      "6\n",
      "7\n",
      "5\n",
      "3\n",
      "9\n",
      "9\n",
      "7\n",
      "6\n",
      "5\n",
      "22\n"
     ]
    }
   ],
   "source": [
    "import random\n",
    "\n",
    "def my_monopoly_dice():\n",
    "    total = 0\n",
    "    while True:\n",
    "        die1 = random.randint(1, 6)\n",
    "        die2 = random.randint(1, 6)\n",
    "        total += die1 + die2\n",
    "        if die1 != die2:\n",
    "            break\n",
    "    return total\n",
    "for _ in range(10):\n",
    "    print(my_monopoly_dice())\n"
   ]
  },
  {
   "cell_type": "markdown",
   "metadata": {},
   "source": [
    "Q10."
   ]
  },
  {
   "cell_type": "code",
   "execution_count": 8,
   "metadata": {},
   "outputs": [
    {
     "data": {
      "text/plain": [
       "[2, 3, 5, 7, 11]"
      ]
     },
     "execution_count": 8,
     "metadata": {},
     "output_type": "execute_result"
    }
   ],
   "source": [
    "def my_n_primes(n):\n",
    "    if not isinstance(n, int) or n <= 0:\n",
    "      return []\n",
    "    primes = []\n",
    "    num = 2  # Start checking for primes from 2\n",
    "    while len(primes) < n:\n",
    "        is_prime = True\n",
    "        for i in range(2, int(num**0.5) + 1):  # Optimization: check divisibility up to sqrt(num)\n",
    "            if num % i == 0:\n",
    "                is_prime = False\n",
    "                break\n",
    "        if is_prime:\n",
    "            primes.append(num)\n",
    "        num += 1\n",
    "    return primes\n",
    "my_n_primes(5)"
   ]
  },
  {
   "cell_type": "markdown",
   "metadata": {},
   "source": [
    "Q13."
   ]
  },
  {
   "cell_type": "code",
   "execution_count": 9,
   "metadata": {},
   "outputs": [
    {
     "name": "stdout",
     "output_type": "stream",
     "text": [
      "{'A': [1], 'B': [2], 'C': [0]}\n"
     ]
    }
   ],
   "source": [
    "def my_connectivity_mat_2_dict(C, names):\n",
    "    if not isinstance(C, list) or not all(isinstance(row, list) for row in C) or not names:\n",
    "        return {} # Handle invalid input\n",
    "\n",
    "    n = len(C)\n",
    "    if n != len(names) or any(len(row) != n for row in C):\n",
    "        return {} # Handle invalid input\n",
    "\n",
    "    node = {}\n",
    "    for i in range(n):\n",
    "        connected_indices = []\n",
    "        for j in range(n):\n",
    "            if C[i][j] == 1:\n",
    "                connected_indices.append(j)\n",
    "        node[names[i]] = connected_indices\n",
    "    return node\n",
    "\n",
    "C = [[0, 1, 0],\n",
    "     [0, 0, 1],\n",
    "     [1, 0, 0]]\n",
    "names = [\"A\", \"B\", \"C\"]\n",
    "\n",
    "node_dict = my_connectivity_mat_2_dict(C, names)\n",
    "print(node_dict)\n",
    "# Expected output: {'A': [1], 'B': [2], 'C': [0]}"
   ]
  },
  {
   "cell_type": "markdown",
   "metadata": {},
   "source": [
    "# CHAPTER 6"
   ]
  },
  {
   "cell_type": "markdown",
   "metadata": {},
   "source": [
    "Q2."
   ]
  },
  {
   "cell_type": "code",
   "execution_count": 10,
   "metadata": {},
   "outputs": [
    {
     "name": "stdout",
     "output_type": "stream",
     "text": [
      "T_3([-1, 0, 1, 0.5]) = [-1, 0, 1, -1.0]\n"
     ]
    }
   ],
   "source": [
    "def my_chebyshev_poly1(n, x):\n",
    "    if not isinstance(n, int) or n < 0 or not isinstance(x, list):\n",
    "        return []\n",
    "        \n",
    "    results = []\n",
    "    for val in x:\n",
    "        if n == 0:\n",
    "            results.append(1)\n",
    "        elif n == 1:\n",
    "            results.append(val)\n",
    "        else:\n",
    "            t_prev = 1  # T_{n-2}\n",
    "            t_curr = val  # T_{n-1}\n",
    "            for i in range(2, n + 1):\n",
    "                t_next = 2 * val * t_curr - t_prev\n",
    "                t_prev = t_curr\n",
    "                t_curr = t_next\n",
    "            results.append(t_curr)\n",
    "            \n",
    "    return results\n",
    "\n",
    "n = 3\n",
    "x_values = [-1, 0, 1, 0.5]\n",
    "y_values = my_chebyshev_poly1(n, x_values)\n",
    "print(f\"T_{n}({x_values}) = {y_values}\") \n",
    "# Expected Output: T_3([-1, 0, 1, 0.5]) = [-1, 0, 1, -0.125]"
   ]
  },
  {
   "cell_type": "markdown",
   "metadata": {},
   "source": [
    "Q3."
   ]
  },
  {
   "cell_type": "code",
   "execution_count": 11,
   "metadata": {},
   "outputs": [
    {
     "name": "stdout",
     "output_type": "stream",
     "text": [
      "7\n"
     ]
    }
   ],
   "source": [
    "def my_ackermann(m, n):\n",
    "    if not isinstance(m, int) or not isinstance(n, int) or m < 0 or n < 0:\n",
    "        return None  # Handle invalid input\n",
    "\n",
    "    if m == 0:\n",
    "        return n + 1\n",
    "    elif m > 0 and n == 0:\n",
    "        return my_ackermann(m - 1, 1)\n",
    "    elif m > 0 and n > 0:\n",
    "        return my_ackermann(m - 1, my_ackermann(m, n - 1))\n",
    "    else:\n",
    "        return None\n",
    "print(my_ackermann(1,5))"
   ]
  },
  {
   "cell_type": "markdown",
   "metadata": {},
   "source": [
    "Q6."
   ]
  },
  {
   "cell_type": "code",
   "execution_count": 12,
   "metadata": {},
   "outputs": [
    {
     "name": "stdout",
     "output_type": "stream",
     "text": [
      "1.6\n"
     ]
    }
   ],
   "source": [
    "def my_golden_ratio(n):\n",
    "    if not isinstance(n, int) or n <= 0:\n",
    "      return None\n",
    "\n",
    "    if n == 1:\n",
    "        return 1\n",
    "    else:\n",
    "        return 1 + 1 / my_golden_ratio(n - 1)\n",
    "print(my_golden_ratio(5)) "
   ]
  },
  {
   "cell_type": "markdown",
   "metadata": {},
   "source": [
    "Q8."
   ]
  },
  {
   "cell_type": "code",
   "execution_count": 13,
   "metadata": {},
   "outputs": [
    {
     "name": "stdout",
     "output_type": "stream",
     "text": [
      "Row 5: [1, 4, 6, 4, 1]\n",
      "[1]\n",
      "[1]\n",
      "[1, 1]\n",
      "[1, 2, 1]\n",
      "[1, 3, 3, 1]\n",
      "[1, 4, 6, 4, 1]\n"
     ]
    }
   ],
   "source": [
    "def generate_pascal_row(m):\n",
    "    if not isinstance(m, int) or m < 0:\n",
    "        return []\n",
    "\n",
    "    if m == 0:  # Handle the 0th row case\n",
    "        return [1]\n",
    "\n",
    "    row = []\n",
    "    for n in range(m):\n",
    "        row.append(comb(m - 1, n))  # Use the combinatorics formula\n",
    "    return row\n",
    "\n",
    "def generate_pascal_triangle(num_rows):\n",
    "    if not isinstance(num_rows, int) or num_rows < 0:\n",
    "        return []\n",
    "\n",
    "    triangle = []\n",
    "    for m in range(num_rows):\n",
    "        triangle.append(generate_pascal_row(m))\n",
    "    return triangle\n",
    "\n",
    "from math import comb  # Import the combinatorics function\n",
    "\n",
    "# Example usage (single row):\n",
    "row_number = 5\n",
    "pascal_row = generate_pascal_row(row_number)\n",
    "print(f\"Row {row_number}: {pascal_row}\")  \n",
    "# Output: Row 5: [1, 4, 6, 4, 1]\n",
    "\n",
    "num_rows = 6\n",
    "pascal_triangle = generate_pascal_triangle(num_rows)\n",
    "for row in pascal_triangle:\n",
    "    print(row)"
   ]
  },
  {
   "cell_type": "markdown",
   "metadata": {},
   "source": [
    "Q9."
   ]
  },
  {
   "cell_type": "code",
   "execution_count": 23,
   "metadata": {},
   "outputs": [
    {
     "data": {
      "text/plain": [
       "array([[1, 1, 1, 1, 1],\n",
       "       [1, 0, 0, 0, 0],\n",
       "       [1, 0, 1, 1, 0],\n",
       "       [1, 0, 0, 1, 0],\n",
       "       [1, 1, 1, 1, 0]], dtype=int32)"
      ]
     },
     "execution_count": 1,
     "metadata": {},
     "output_type": "execute_result"
    }
   ],
   "source": [
    "import numpy as np\n",
    "def my_spiral_ones(n):\n",
    "    spi = np.zeros((n, n))\n",
    "    if n == 1:\n",
    "        spi = np.array([[1]])\n",
    "    elif n % 4 == 1 and n > 1:\n",
    "        spi[:1, :] = 1\n",
    "        spi[1:n, :n-1] = my_spiral_ones(n-1)\n",
    "    elif n % 4 == 2:\n",
    "        spi[:, n-1:] = 1\n",
    "        spi[:n-1, :n-1] = my_spiral_ones(n-1)\n",
    "    elif n % 4 == 3:\n",
    "        spi[n-1:, :] = 1\n",
    "        spi[:n-1, 1:n] = my_spiral_ones(n-1)\n",
    "    elif n % 4 == 0:\n",
    "        spi[:, :1] = 1\n",
    "        spi[1:n, 1:n] = my_spiral_ones(n-1)\n",
    "    return spi.astype(np.int32)\n",
    "\n",
    "my_spiral_ones(5)"
   ]
  },
  {
   "cell_type": "code",
   "execution_count": null,
   "metadata": {},
   "outputs": [],
   "source": []
  }
 ],
 "metadata": {
  "kernelspec": {
   "display_name": "Python 3 (ipykernel)",
   "language": "python",
   "name": "python3"
  }
 },
 "nbformat": 4,
 "nbformat_minor": 2
}
