{
 "cells": [
  {
   "cell_type": "markdown",
   "metadata": {},
   "source": [
    "# ---------------------- CHAP 1 --------------------"
   ]
  },
  {
   "cell_type": "markdown",
   "metadata": {},
   "source": [
    " Q10. Although a year is considered to be 365 days long, a more exact figure is 365.24 days. As a\n",
    " consequence, if we held to the standard 365-day year, we would gradually lose that fraction of the\n",
    " day over time, and seasons and other astronomical events would not occur as expected. To keep\n",
    " the timescale on tract, a leap year is a year that includes an extra day, February 29, to keep the\n",
    " timescale on track. Leap years occur on years that are exactly divisible by 4, unless it is exactly\n",
    " divisible by 100, unless it is divisible by 400. For example, the year 2004 is a leap year, the year\n",
    " 1900 is not a leap year, and the year 2000 is a leap year. Compute the number of leap years between\n",
    " the years 1500 and 2010."
   ]
  },
  {
   "cell_type": "code",
   "execution_count": 28,
   "metadata": {},
   "outputs": [
    {
     "name": "stdout",
     "output_type": "stream",
     "text": [
      "124\n"
     ]
    }
   ],
   "source": [
    "def is_leap_year(year):\n",
    "    return (year % 4 == 0 and year % 100 != 0) or (year % 400 == 0)\n",
    "\n",
    "leap_years = [year for year in range(1500, 2011) if is_leap_year(year)]\n",
    "print(len(leap_years))\n"
   ]
  },
  {
   "cell_type": "markdown",
   "metadata": {},
   "source": [
    "Q11. A very powerful approximation for π was developed by Srinivasa Ramanujan. The approximation is:\n",
    "\n",
    "$$\\frac{1}{\\pi} \\approx \\frac{2\\sqrt{2}}{9801} \\sum_{k=0}^{N} \\frac{(4k)!(1103 + 26390k)}{(k!)^4 396^{4k}}$$\n",
    "\n",
    "Use Ramanujan's formula for N = 0 and N = 1 to approximate π. Compare your approximation with Python's stored value for π. Hint: 0! = 1 by definition."
   ]
  },
  {
   "cell_type": "code",
   "execution_count": 29,
   "metadata": {},
   "outputs": [
    {
     "name": "stdout",
     "output_type": "stream",
     "text": [
      "3.1415927300133055\n",
      "3.1415926535897936\n",
      "3.141592653589793\n"
     ]
    }
   ],
   "source": [
    "import math\n",
    "\n",
    "def ramanujan_pi(N):\n",
    "    total = 0\n",
    "    for k in range(N + 1):\n",
    "        num = math.factorial(4 * k) * (1103 + 26390 * k)\n",
    "        denom = (math.factorial(k) ** 4) * (396 ** (4 * k))\n",
    "        total += num / denom\n",
    "    return (2 * math.sqrt(2) / 9801) * total\n",
    "\n",
    "pi_approx_0 = 1 / ramanujan_pi(0)\n",
    "pi_approx_1 = 1 / ramanujan_pi(1)\n",
    "\n",
    "print(pi_approx_0)\n",
    "print(pi_approx_1)\n",
    "print(math.pi)"
   ]
  },
  {
   "cell_type": "markdown",
   "metadata": {},
   "source": [
    "**12. Hyperbolic Sine Calculation**\n",
    "\n",
    "The hyperbolic sine (sinh) is defined as:\n",
    "\n",
    "$$sinh(x) = \\frac{e^x - e^{-x}}{2}$$\n",
    "\n",
    "Compute sinh for *x* = 2 using exponentials. Verify that the result is indeed the hyperbolic sin using Python's function `sinh` in the `math` module."
   ]
  },
  {
   "cell_type": "code",
   "execution_count": 30,
   "metadata": {},
   "outputs": [
    {
     "name": "stdout",
     "output_type": "stream",
     "text": [
      "3.626860407847019\n",
      "3.626860407847019\n",
      "True\n"
     ]
    }
   ],
   "source": [
    "x = 2\n",
    "sinh_x = (math.exp(x) - math.exp(-x)) / 2\n",
    "print(sinh_x)\n",
    "\n",
    "# Verify using Python's math.sinh function\n",
    "sinh_x_math = math.sinh(x)\n",
    "print(sinh_x_math)\n",
    "\n",
    "# Check if both results are the same\n",
    "print(sinh_x == sinh_x_math)"
   ]
  },
  {
   "cell_type": "markdown",
   "metadata": {},
   "source": [
    "**13. Trigonometric Identity Verification**\n",
    "\n",
    "Verify that:\n",
    "\n",
    "$$sin^2(x) + cos^2(x) = 1$$\n",
    "\n",
    "for *x* = π, π/2, π/4, π/6.\n"
   ]
  },
  {
   "cell_type": "code",
   "execution_count": 31,
   "metadata": {},
   "outputs": [
    {
     "name": "stdout",
     "output_type": "stream",
     "text": [
      "[1.0, 1.0, 1.0, 1.0]\n"
     ]
    }
   ],
   "source": [
    "angles = [math.pi, math.pi/2, math.pi/4, math.pi/6]\n",
    "\"\"\"\n",
    "This script verifies the trigonometric identity sin^2(x) + cos^2(x) = 1 for a given set of angles.\n",
    "\n",
    "The angles used for verification are:\n",
    "- π (pi)\n",
    "- π/2 (pi divided by 2)\n",
    "- π/4 (pi divided by 4)\n",
    "- π/6 (pi divided by 6)\n",
    "\n",
    "For each angle, the script calculates the value of sin^2(x) + cos^2(x) and stores the results in a list named `identity_verification`.\n",
    "\n",
    "Finally, the script prints the list `identity_verification` to show the results of the identity verification for each angle.\n",
    "\"\"\"\n",
    "identity_verification = [(math.sin(x)**2 + math.cos(x)**2) for x in angles]\n",
    "print(identity_verification)"
   ]
  },
  {
   "cell_type": "markdown",
   "metadata": {},
   "source": [
    "**14. Sine of 87 Degrees**\n",
    "\n",
    "Compute sin 87°.\n"
   ]
  },
  {
   "cell_type": "code",
   "execution_count": 32,
   "metadata": {},
   "outputs": [
    {
     "name": "stdout",
     "output_type": "stream",
     "text": [
      "0.9986295347545738\n"
     ]
    }
   ],
   "source": [
    "# Convert 87 degrees to radians\n",
    "angle_degrees = 87\n",
    "angle_radians = math.radians(angle_degrees)\n",
    "\n",
    "# Compute the sine of 87 degrees\n",
    "sine_87 = math.sin(angle_radians)\n",
    "print(sine_87)"
   ]
  },
  {
   "cell_type": "markdown",
   "metadata": {},
   "source": [
    "**15. Generating an AttributeError**\n",
    "\n",
    "Write a Python statement that generates the following error:\n",
    "\n",
    "`AttributeError: module 'math' has no attribute 'sni'`\n",
    "\n",
    "Hint: `sni` is a misspelling of the function `sin`."
   ]
  },
  {
   "cell_type": "code",
   "execution_count": 33,
   "metadata": {},
   "outputs": [
    {
     "ename": "AttributeError",
     "evalue": "module 'math' has no attribute 'sni'",
     "output_type": "error",
     "traceback": [
      "\u001b[0;31m---------------------------------------------------------------------------\u001b[0m",
      "\u001b[0;31mAttributeError\u001b[0m                            Traceback (most recent call last)",
      "Cell \u001b[0;32mIn[33], line 2\u001b[0m\n\u001b[1;32m      1\u001b[0m \u001b[38;5;66;03m# This will generate an AttributeError because 'sni' is not a valid attribute of the 'math' module\u001b[39;00m\n\u001b[0;32m----> 2\u001b[0m \u001b[43mmath\u001b[49m\u001b[38;5;241;43m.\u001b[39;49m\u001b[43msni\u001b[49m(\u001b[38;5;241m0\u001b[39m)\n",
      "\u001b[0;31mAttributeError\u001b[0m: module 'math' has no attribute 'sni'"
     ]
    }
   ],
   "source": [
    "# This will generate an AttributeError because 'sni' is not a valid attribute of the 'math' module\n",
    "math.sni(0)"
   ]
  },
  {
   "cell_type": "markdown",
   "metadata": {},
   "source": [
    "**16. Generating a TypeError**\n",
    "\n",
    "Write a Python statement that generates the following error:\n",
    "\n",
    "`TypeError: sin() takes exactly one argument (0 given)`\n",
    "\n",
    "Hint: Input arguments refers to the input of a function (any function); for example, the input in sin(π/2) is π/2."
   ]
  },
  {
   "cell_type": "code",
   "execution_count": 1,
   "metadata": {},
   "outputs": [
    {
     "ename": "NameError",
     "evalue": "name 'math' is not defined",
     "output_type": "error",
     "traceback": [
      "\u001b[0;31m---------------------------------------------------------------------------\u001b[0m",
      "\u001b[0;31mNameError\u001b[0m                                 Traceback (most recent call last)",
      "Cell \u001b[0;32mIn[1], line 1\u001b[0m\n\u001b[0;32m----> 1\u001b[0m \u001b[43mmath\u001b[49m\u001b[38;5;241m.\u001b[39msin()\n",
      "\u001b[0;31mNameError\u001b[0m: name 'math' is not defined"
     ]
    }
   ],
   "source": [
    "math.sin()"
   ]
  },
  {
   "cell_type": "markdown",
   "metadata": {},
   "source": [
    "**17. Law of Noncontradiction**\n",
    "\n",
    "If P is a logical expression, the law of noncontradiction states that P AND (NOT P) is always false. Verify this for P true and P false."
   ]
  },
  {
   "cell_type": "code",
   "execution_count": 8,
   "metadata": {},
   "outputs": [
    {
     "name": "stdout",
     "output_type": "stream",
     "text": [
      "Verification of law of noncontradiction for P = True: False\n",
      "Verification of law of noncontradiction for P = False: False\n"
     ]
    }
   ],
   "source": [
    "# Define logical expressions\n",
    "P_true = True\n",
    "P_false = False\n",
    "\n",
    "# Verify the law of noncontradiction for P_true\n",
    "# According to the law of noncontradiction, P AND (NOT P) should always be False\n",
    "noncontradiction_true = P_true and not P_true\n",
    "\n",
    "# Verify the law of noncontradiction for P_false\n",
    "# According to the law of noncontradiction, P AND (NOT P) should always be False\n",
    "noncontradiction_false = P_false and not P_false\n",
    "\n",
    "# Print the results\n",
    "print(f\"Verification of law of noncontradiction for P = True: {noncontradiction_true}\")  # Should print False\n",
    "print(f\"Verification of law of noncontradiction for P = False: {noncontradiction_false}\")  # Should print False"
   ]
  },
  {
   "cell_type": "markdown",
   "metadata": {},
   "source": [
    "**18. De Morgan's Rule**\n",
    "\n",
    "Let P and Q be logical expressions. De Morgan's rule states:\n",
    "\n",
    "*   NOT (P OR Q) = (NOT P) AND (NOT Q)\n",
    "*   NOT (P AND Q) = (NOT P) OR (NOT Q)\n",
    "\n",
    "Generate the truth tables for each statement to show that De Morgan's rule is always true."
   ]
  },
  {
   "cell_type": "code",
   "execution_count": 9,
   "metadata": {},
   "outputs": [
    {
     "name": "stdout",
     "output_type": "stream",
     "text": [
      "Truth Table for First Rule: NOT (P OR Q) = (NOT P) AND (NOT Q)\n",
      "P\tQ\tP OR Q\tNOT(P OR Q)\t(NOT P) AND (NOT Q)\tEqual?\n",
      "-----------------------------------------------------------------\n",
      "True\tTrue\tTrue\tFalse\t\tFalse\t\tTrue\n",
      "True\tFalse\tTrue\tFalse\t\tFalse\t\tTrue\n",
      "False\tTrue\tTrue\tFalse\t\tFalse\t\tTrue\n",
      "False\tFalse\tFalse\tTrue\t\tTrue\t\tTrue\n",
      "\n",
      "Truth Table for Second Rule: NOT (P AND Q) = (NOT P) OR (NOT Q)\n",
      "P\tQ\tP AND Q\tNOT(P AND Q)\t(NOT P) OR (NOT Q)\tEqual?\n",
      "-----------------------------------------------------------------\n",
      "True\tTrue\tTrue\tFalse\t\tFalse\t\tTrue\n",
      "True\tFalse\tFalse\tTrue\t\tTrue\t\tTrue\n",
      "False\tTrue\tFalse\tTrue\t\tTrue\t\tTrue\n",
      "False\tFalse\tFalse\tTrue\t\tTrue\t\tTrue\n"
     ]
    }
   ],
   "source": [
    "def verify_de_morgan():\n",
    "    # All possible combinations of P and Q\n",
    "    combinations = [(True, True), (True, False), (False, True), (False, False)]\n",
    "    \n",
    "    print(\"Truth Table for First Rule: NOT (P OR Q) = (NOT P) AND (NOT Q)\")\n",
    "    print(\"P\\tQ\\tP OR Q\\tNOT(P OR Q)\\t(NOT P) AND (NOT Q)\\tEqual?\")\n",
    "    print(\"-\" * 65)\n",
    "    \n",
    "    for P, Q in combinations:\n",
    "        left_side = not (P or Q)\n",
    "        right_side = (not P) and (not Q)\n",
    "        equal = left_side == right_side\n",
    "        print(f\"{P}\\t{Q}\\t{P or Q}\\t{left_side}\\t\\t{right_side}\\t\\t{equal}\")\n",
    "    \n",
    "    print(\"\\nTruth Table for Second Rule: NOT (P AND Q) = (NOT P) OR (NOT Q)\")\n",
    "    print(\"P\\tQ\\tP AND Q\\tNOT(P AND Q)\\t(NOT P) OR (NOT Q)\\tEqual?\")\n",
    "    print(\"-\" * 65)\n",
    "    \n",
    "    for P, Q in combinations:\n",
    "        left_side = not (P and Q)\n",
    "        right_side = (not P) or (not Q)\n",
    "        equal = left_side == right_side\n",
    "        print(f\"{P}\\t{Q}\\t{P and Q}\\t{left_side}\\t\\t{right_side}\\t\\t{equal}\")\n",
    "\n",
    "verify_de_morgan()"
   ]
  },
  {
   "cell_type": "markdown",
   "metadata": {},
   "source": [
    "**19. Conditions for a False Expression**\n",
    "\n",
    "Under what conditions for P and Q is (P AND Q) OR (P AND (NOT Q)) false?\n"
   ]
  },
  {
   "cell_type": "code",
   "execution_count": 10,
   "metadata": {},
   "outputs": [
    {
     "name": "stdout",
     "output_type": "stream",
     "text": [
      "Truth Table for (P AND Q) OR (P AND (NOT Q))\n",
      "P\tQ\tP AND Q\tP AND (NOT Q)\tResult\n",
      "--------------------------------------------------\n",
      "True\tTrue\tTrue\tFalse\t\tTrue\n",
      "True\tFalse\tFalse\tTrue\t\tTrue\n",
      "False\tTrue\tFalse\tFalse\t\tFalse\n",
      "False\tFalse\tFalse\tFalse\t\tFalse\n"
     ]
    }
   ],
   "source": [
    "def test_expression():\n",
    "    # All possible combinations of P and Q\n",
    "    combinations = [(True, True), (True, False), (False, True), (False, False)]\n",
    "    \n",
    "    print(\"Truth Table for (P AND Q) OR (P AND (NOT Q))\")\n",
    "    print(\"P\\tQ\\tP AND Q\\tP AND (NOT Q)\\tResult\")\n",
    "    print(\"-\" * 50)\n",
    "    \n",
    "    for P, Q in combinations:\n",
    "        term1 = P and Q\n",
    "        term2 = P and (not Q)\n",
    "        result = term1 or term2\n",
    "        print(f\"{P}\\t{Q}\\t{term1}\\t{term2}\\t\\t{result}\")\n",
    "        \n",
    "test_expression()"
   ]
  },
  {
   "cell_type": "markdown",
   "metadata": {},
   "source": [
    "**20. Equivalent Expression for OR**\n",
    "\n",
    "Construct an equivalent logical expression for OR using only AND and NOT.\n"
   ]
  },
  {
   "cell_type": "code",
   "execution_count": 18,
   "metadata": {},
   "outputs": [
    {
     "name": "stdout",
     "output_type": "stream",
     "text": [
      "Truth Table for OR vs NOT(NOT P AND NOT Q)\n",
      "P\tQ\tP OR Q\tNOT(NOT P AND NOT Q)\tEqual?\n",
      "------------------------------------------------------------\n",
      "True\tTrue\tTrue\tTrue\t\tTrue\n",
      "True\tFalse\tTrue\tTrue\t\tTrue\n",
      "False\tTrue\tTrue\tTrue\t\tTrue\n",
      "False\tFalse\tFalse\tFalse\t\tTrue\n"
     ]
    }
   ],
   "source": [
    "def test_or_equivalent():\n",
    "    # De Morgan's Law states that: P OR Q = NOT(NOT P AND NOT Q)\n",
    "    # Let's test this for all possible combinations\n",
    "    combinations = [(True, True), (True, False), (False, True), (False, False)]\n",
    "    \n",
    "    print(\"Truth Table for OR vs NOT(NOT P AND NOT Q)\")\n",
    "    print(\"P\\tQ\\tP OR Q\\tNOT(NOT P AND NOT Q)\\tEqual?\")\n",
    "    print(\"-\" * 60)\n",
    "    \n",
    "    for P, Q in combinations:\n",
    "        regular_or = P or Q\n",
    "        equivalent = not(not P and not Q)\n",
    "        equal = regular_or == equivalent\n",
    "        print(f\"{P}\\t{Q}\\t{regular_or}\\t{equivalent}\\t\\t{equal}\")\n",
    "\n",
    "test_or_equivalent()"
   ]
  },
  {
   "cell_type": "markdown",
   "metadata": {},
   "source": [
    "**21. Equivalent Expression for AND**\n",
    "\n",
    "Construct an equivalent logical expression for AND using only OR and NOT."
   ]
  },
  {
   "cell_type": "code",
   "execution_count": 19,
   "metadata": {},
   "outputs": [
    {
     "name": "stdout",
     "output_type": "stream",
     "text": [
      "Truth Table for AND vs NOT(NOT P OR NOT Q)\n",
      "P\tQ\tP AND Q\tNOT(NOT P OR NOT Q)\tEqual?\n",
      "------------------------------------------------------------\n",
      "True\tTrue\tTrue\tTrue\t\tTrue\n",
      "True\tFalse\tFalse\tFalse\t\tTrue\n",
      "False\tTrue\tFalse\tFalse\t\tTrue\n",
      "False\tFalse\tFalse\tFalse\t\tTrue\n"
     ]
    }
   ],
   "source": [
    "def test_and_equivalent():\n",
    "    # De Morgan's Law can be used: P AND Q = NOT(NOT P OR NOT Q)\n",
    "    # Let's test this for all possible combinations\n",
    "    combinations = [(True, True), (True, False), (False, True), (False, False)]\n",
    "    \n",
    "    print(\"Truth Table for AND vs NOT(NOT P OR NOT Q)\")\n",
    "    print(\"P\\tQ\\tP AND Q\\tNOT(NOT P OR NOT Q)\\tEqual?\")\n",
    "    print(\"-\" * 60)\n",
    "    \n",
    "    for P, Q in combinations:\n",
    "        regular_and = P and Q\n",
    "        equivalent = not(not P or not Q)\n",
    "        equal = regular_and == equivalent\n",
    "        print(f\"{P}\\t{Q}\\t{regular_and}\\t{equivalent}\\t\\t{equal}\")\n",
    "\n",
    "test_and_equivalent()"
   ]
  },
  {
   "cell_type": "markdown",
   "metadata": {},
   "source": [
    "**22. Equivalent Expression for XOR**\n",
    "\n",
    "The logical operator XOR has the following truth table (see Fig. 1.18 - *This would need to be included if available*). Construct an equivalent logical expression for XOR using only AND, OR, and NOT that has the same truth table."
   ]
  },
  {
   "cell_type": "code",
   "execution_count": 20,
   "metadata": {},
   "outputs": [
    {
     "name": "stdout",
     "output_type": "stream",
     "text": [
      "Truth Table for XOR vs (P AND NOT Q) OR (NOT P AND Q)\n",
      "P\tQ\tP XOR Q\tEquivalent\tEqual?\n",
      "--------------------------------------------------\n",
      "True\tTrue\tFalse\tFalse\tTrue\n",
      "True\tFalse\tTrue\tTrue\tTrue\n",
      "False\tTrue\tTrue\tTrue\tTrue\n",
      "False\tFalse\tFalse\tFalse\tTrue\n"
     ]
    }
   ],
   "source": [
    "def test_xor_equivalent():\n",
    "    # XOR can be expressed as: (P AND NOT Q) OR (NOT P AND Q)\n",
    "    combinations = [(True, True), (True, False), (False, True), (False, False)]\n",
    "    \n",
    "    print(\"Truth Table for XOR vs (P AND NOT Q) OR (NOT P AND Q)\")\n",
    "    print(\"P\\tQ\\tP XOR Q\\tEquivalent\\tEqual?\")\n",
    "    print(\"-\" * 50)\n",
    "    \n",
    "    for P, Q in combinations:\n",
    "        regular_xor = P != Q  # Python's != operator behaves like XOR for booleans\n",
    "        equivalent = (P and not Q) or (not P and Q)\n",
    "        equal = regular_xor == equivalent\n",
    "        print(f\"{P}\\t{Q}\\t{regular_xor}\\t{equivalent}\\t{equal}\")\n",
    "\n",
    "test_xor_equivalent()"
   ]
  },
  {
   "cell_type": "markdown",
   "metadata": {},
   "source": [
    "**23. Python Calculation**\n",
    "\n",
    "Do the following calculation at the Python command prompt:\n",
    "\n",
    "e² sin(π/6) + logₑ(3) cos(π/9) – 5³\n"
   ]
  },
  {
   "cell_type": "code",
   "execution_count": 21,
   "metadata": {},
   "outputs": [
    {
     "name": "stdout",
     "output_type": "stream",
     "text": [
      "-120.27311408976854\n"
     ]
    }
   ],
   "source": [
    "# Calculate e² sin(π/6) + logₑ(3) cos(π/9) – 5³\n",
    "result = (math.e ** 2) * math.sin(math.pi/6) + math.log(3) * math.cos(math.pi/9) - 5**3\n",
    "print(result)"
   ]
  },
  {
   "cell_type": "markdown",
   "metadata": {},
   "source": [
    "**24. Python Logical and Comparison Operations**\n",
    "\n",
    "Do the following logical and comparison operations at the Python command prompt. You may assume that P and Q are logical expressions.\n",
    "\n",
    "*   For P = 1 and Q = 1, compute NOT(P) AND NOT(Q).\n",
    "*   For a = 10 and b = 25, compute (a < b) AND (a = b)."
   ]
  },
  {
   "cell_type": "code",
   "execution_count": 22,
   "metadata": {},
   "outputs": [
    {
     "name": "stdout",
     "output_type": "stream",
     "text": [
      "False\n",
      "False\n"
     ]
    }
   ],
   "source": [
    "# For P = 1 and Q = 1, compute NOT(P) AND NOT(Q)\n",
    "P = 1\n",
    "Q = 1\n",
    "result_1 = not P and not Q\n",
    "print(result_1)\n",
    "\n",
    "# For a = 10 and b = 25, compute (a < b) AND (a == b)\n",
    "a = 10\n",
    "b = 25\n",
    "result_2 = (a < b) and (a == b)\n",
    "print(result_2)"
   ]
  },
  {
   "cell_type": "markdown",
   "metadata": {},
   "source": [
    "# ------------------ CHAP 2 ----------------------------"
   ]
  },
  {
   "cell_type": "markdown",
   "metadata": {},
   "source": []
  },
  {
   "cell_type": "markdown",
   "metadata": {},
   "source": [
    "**1. Variable Assignment and Clearing**\n",
    "\n",
    "*   Assign the value 2 to the variable *x* and the value 3 to the variable *y*.\n",
    "*   Clear just the variable *x*."
   ]
  },
  {
   "cell_type": "code",
   "execution_count": 21,
   "metadata": {},
   "outputs": [],
   "source": [
    "x = 2\n",
    "y = 3\n",
    "del x  # This clears the variable x while keeping y intact"
   ]
  },
  {
   "cell_type": "markdown",
   "metadata": {},
   "source": [
    "**2. Generating a NameError**\n",
    "\n",
    "Write a line of code that generates the following error:\n",
    "\n",
    "`NameError: name 'x' is not defined`"
   ]
  },
  {
   "cell_type": "code",
   "execution_count": 22,
   "metadata": {},
   "outputs": [
    {
     "ename": "NameError",
     "evalue": "name 'c' is not defined",
     "output_type": "error",
     "traceback": [
      "\u001b[0;31m---------------------------------------------------------------------------\u001b[0m",
      "\u001b[0;31mNameError\u001b[0m                                 Traceback (most recent call last)",
      "Cell \u001b[0;32mIn[22], line 1\u001b[0m\n\u001b[0;32m----> 1\u001b[0m \u001b[38;5;28mprint\u001b[39m(\u001b[43mc\u001b[49m)\n",
      "\u001b[0;31mNameError\u001b[0m: name 'c' is not defined"
     ]
    }
   ],
   "source": [
    "print(c)"
   ]
  },
  {
   "cell_type": "markdown",
   "metadata": {},
   "source": [
    "**3. Variable Assignments with Calculations**\n",
    "\n",
    "Let *x* = 10 and *y* = 3. Write a line of code that will make each of the following assignments:\n",
    "\n",
    "*   *u* = *x* + *y*\n",
    "*   *v* = *x* * *y*\n",
    "*   *w* = *x* / *y*\n",
    "*   *z* = sin(*x*)\n",
    "*   *r* = 8sin(*x*)\n",
    "*   *s* = 5sin(*x* * *y*)\n",
    "*   *p* = *x***y*"
   ]
  },
  {
   "cell_type": "code",
   "execution_count": 23,
   "metadata": {},
   "outputs": [
    {
     "name": "stdout",
     "output_type": "stream",
     "text": [
      "13 30 3.3333333333333335 -0.5440211108893698 -4.352168887114958 -4.940158120464309 1000\n"
     ]
    }
   ],
   "source": [
    "x = 10\n",
    "y = 3\n",
    "\n",
    "u = x + y\n",
    "v = x * y\n",
    "w = x / y\n",
    "z = math.sin(x)\n",
    "r = 8 * math.sin(x)\n",
    "s = 5 * math.sin(x * y)\n",
    "p = x ** y\n",
    "\n",
    "print(u, v, w, z, r, s, p)"
   ]
  },
  {
   "cell_type": "markdown",
   "metadata": {},
   "source": [
    "**4. Showing Variables in Jupyter Notebook**\n",
    "\n",
    "Show all the variables in the Jupyter notebook after you finish Problem 3.\n"
   ]
  },
  {
   "cell_type": "code",
   "execution_count": 24,
   "metadata": {},
   "outputs": [
    {
     "name": "stdout",
     "output_type": "stream",
     "text": [
      "Variable                Type        Data/Info\n",
      "---------------------------------------------\n",
      "angle_degrees           int         87\n",
      "angle_radians           float       1.5184364492350666\n",
      "angles                  list        n=4\n",
      "identity_verification   list        n=4\n",
      "is_leap_year            function    <function is_leap_year at 0x7f840b76e7a0>\n",
      "leap_years              list        n=124\n",
      "math                    module      <module 'math' from '/usr<...>312-x86_64-linux-gnu.so'>\n",
      "p                       int         1000\n",
      "pi_approx_0             float       3.1415927300133055\n",
      "pi_approx_1             float       3.1415926535897936\n",
      "r                       float       -4.352168887114958\n",
      "ramanujan_pi            function    <function ramanujan_pi at 0x7f840b76c220>\n",
      "s                       float       -4.940158120464309\n",
      "sine_87                 float       0.9986295347545738\n",
      "sinh_x                  float       3.626860407847019\n",
      "sinh_x_math             float       3.626860407847019\n",
      "u                       int         13\n",
      "v                       int         30\n",
      "w                       float       3.3333333333333335\n",
      "x                       int         10\n",
      "y                       int         3\n",
      "z                       float       -0.5440211108893698\n"
     ]
    }
   ],
   "source": [
    "%whos"
   ]
  },
  {
   "cell_type": "markdown",
   "metadata": {},
   "source": [
    "**5. String to Float Conversion**\n",
    "\n",
    "Assign the string \"123\" to the variable *S*. Convert the string into a float type and assign the output to the variable *N*. Verify that *S* is a string and *N* is a float using the `type` function."
   ]
  },
  {
   "cell_type": "code",
   "execution_count": 25,
   "metadata": {},
   "outputs": [
    {
     "name": "stdout",
     "output_type": "stream",
     "text": [
      "S is of type: <class 'str'>\n",
      "N is of type: <class 'float'>\n"
     ]
    }
   ],
   "source": [
    "S = \"123\"\n",
    "N = float(S)\n",
    "\n",
    "# Verify types\n",
    "print(f\"S is of type: {type(S)}\")\n",
    "print(f\"N is of type: {type(N)}\")"
   ]
  },
  {
   "cell_type": "markdown",
   "metadata": {},
   "source": [
    "**6. String Comparison**\n",
    "\n",
    "Assign the string \"HELLO\" to the variable *s1* and the string \"hello\" to the variable *s2*.\n",
    "\n",
    "*   Use the `==` operator to show that they are not equal.\n",
    "*   Use the `==` operator to show that *s1* and *s2* are equal if the `lower()` method is used on *s1*.\n",
    "*   Use the `==` operator to show that *s1* and *s2* are equal if the `upper()` method is used on *s2*.\n"
   ]
  },
  {
   "cell_type": "code",
   "execution_count": 26,
   "metadata": {},
   "outputs": [
    {
     "name": "stdout",
     "output_type": "stream",
     "text": [
      "Direct comparison (s1 == s2): False\n",
      "Lowercase comparison (s1.lower() == s2): True\n",
      "Uppercase comparison (s1 == s2.upper()): True\n"
     ]
    }
   ],
   "source": [
    "s1 = \"HELLO\"\n",
    "s2 = \"hello\"\n",
    "\n",
    "# Compare strings directly\n",
    "print(f\"Direct comparison (s1 == s2): {s1 == s2}\")\n",
    "\n",
    "# Compare with s1 converted to lowercase\n",
    "print(f\"Lowercase comparison (s1.lower() == s2): {s1.lower() == s2}\")\n",
    "\n",
    "# Compare with s2 converted to uppercase\n",
    "print(f\"Uppercase comparison (s1 == s2.upper()): {s1 == s2.upper()}\")"
   ]
  },
  {
   "cell_type": "markdown",
   "metadata": {},
   "source": [
    "\n",
    "**7. Using the Print Function**\n",
    "\n",
    "Use the `print` function to generate the following strings:\n",
    "\n",
    "*   The world \"Engineering\" has 11 letters.\n",
    "*   The word \"Book\" has 4 letters."
   ]
  },
  {
   "cell_type": "code",
   "execution_count": 27,
   "metadata": {},
   "outputs": [
    {
     "name": "stdout",
     "output_type": "stream",
     "text": [
      "The word \"Engineering\" has 11 letters.\n",
      "The word \"Book\" has 4 letters.\n"
     ]
    }
   ],
   "source": [
    "print(f'The word \"Engineering\" has {len(\"Engineering\")} letters.')\n",
    "print(f'The word \"Book\" has {len(\"Book\")} letters.')"
   ]
  },
  {
   "cell_type": "markdown",
   "metadata": {},
   "source": [
    "**8. Checking for Substring**\n",
    "\n",
    "Check if \"Python\" is in \"Python is great!\".\n"
   ]
  },
  {
   "cell_type": "code",
   "execution_count": 34,
   "metadata": {},
   "outputs": [
    {
     "name": "stdout",
     "output_type": "stream",
     "text": [
      "True\n"
     ]
    }
   ],
   "source": [
    "substring = \"Python\"\n",
    "string = \"Python is great!\"\n",
    "\n",
    "# Check if substring is in string\n",
    "is_present = substring in string\n",
    "print(is_present)"
   ]
  },
  {
   "cell_type": "markdown",
   "metadata": {},
   "source": [
    "**9. Getting the Last Word**\n",
    "\n",
    "Get the last word \"great\" from \"Python is great!\"."
   ]
  },
  {
   "cell_type": "code",
   "execution_count": 35,
   "metadata": {},
   "outputs": [
    {
     "name": "stdout",
     "output_type": "stream",
     "text": [
      "great!\n"
     ]
    }
   ],
   "source": [
    "string = \"Python is great!\"\n",
    "last_word = string.split()[-1]\n",
    "print(last_word)"
   ]
  },
  {
   "cell_type": "code",
   "execution_count": 39,
   "metadata": {
    "vscode": {
     "languageId": "markdown"
    }
   },
   "outputs": [
    {
     "ename": "SyntaxError",
     "evalue": "invalid syntax (3923353011.py, line 1)",
     "output_type": "error",
     "traceback": [
      "\u001b[0;36m  Cell \u001b[0;32mIn[39], line 1\u001b[0;36m\u001b[0m\n\u001b[0;31m    **10. List Insertion and Appending**\u001b[0m\n\u001b[0m    ^\u001b[0m\n\u001b[0;31mSyntaxError\u001b[0m\u001b[0;31m:\u001b[0m invalid syntax\n"
     ]
    }
   ],
   "source": [
    "**10. List Insertion and Appending**\n",
    "*   Assign the list `[1, 8, 9, 15]` to a variable `list_a`.\n",
    "*   Insert `2` at index 1 using the `insert()` method.\n",
    "*   Append `4` to `list_a` using the `append()` method."
   ]
  },
  {
   "cell_type": "code",
   "execution_count": 40,
   "metadata": {},
   "outputs": [
    {
     "name": "stdout",
     "output_type": "stream",
     "text": [
      "[1, 2, 8, 9, 15, 4]\n"
     ]
    }
   ],
   "source": [
    "\n",
    "list_a = [1, 8, 9, 15]\n",
    "list_a.insert(1, 2)\n",
    "list_a.append(4)\n",
    "print(list_a)"
   ]
  },
  {
   "cell_type": "markdown",
   "metadata": {},
   "source": [
    "**11. List Sorting**\n",
    "\n",
    "Sort `list_a` from problem 10 in ascending order."
   ]
  },
  {
   "cell_type": "code",
   "execution_count": 41,
   "metadata": {},
   "outputs": [
    {
     "name": "stdout",
     "output_type": "stream",
     "text": [
      "[1, 2, 4, 8, 9, 15]\n"
     ]
    }
   ],
   "source": [
    "list_a.sort()\n",
    "print(list_a)"
   ]
  },
  {
   "cell_type": "markdown",
   "metadata": {},
   "source": [
    "**12. String to List Conversion**\n",
    "\n",
    "Turn the string \"Python is great!\" into a list."
   ]
  },
  {
   "cell_type": "code",
   "execution_count": 42,
   "metadata": {},
   "outputs": [
    {
     "name": "stdout",
     "output_type": "stream",
     "text": [
      "['Python', 'is', 'great!']\n"
     ]
    }
   ],
   "source": [
    "string = \"Python is great!\"\n",
    "string_list = string.split()\n",
    "print(string_list)"
   ]
  },
  {
   "cell_type": "markdown",
   "metadata": {},
   "source": [
    "**13. Tuple Creation**\n",
    "\n",
    "Create a tuple with elements \"One\" and 1 and assign it to `tuple_a`."
   ]
  },
  {
   "cell_type": "code",
   "execution_count": 43,
   "metadata": {},
   "outputs": [
    {
     "name": "stdout",
     "output_type": "stream",
     "text": [
      "('One', 1)\n"
     ]
    }
   ],
   "source": [
    "tuple_a = (\"One\", 1)\n",
    "print(tuple_a)"
   ]
  },
  {
   "cell_type": "markdown",
   "metadata": {},
   "source": [
    "**14. Tuple Element Access**\n",
    "\n",
    "Get the second element in `tuple_a` from Problem 13.\n"
   ]
  },
  {
   "cell_type": "code",
   "execution_count": 44,
   "metadata": {},
   "outputs": [
    {
     "name": "stdout",
     "output_type": "stream",
     "text": [
      "1\n"
     ]
    }
   ],
   "source": [
    "second_element = tuple_a[1]\n",
    "print(second_element)"
   ]
  },
  {
   "cell_type": "markdown",
   "metadata": {},
   "source": [
    "**15. Getting Unique Elements**\n",
    "\n",
    "Get the unique elements from the collection `(2, 3, 2, 3, 1, 2, 5)`."
   ]
  },
  {
   "cell_type": "code",
   "execution_count": 45,
   "metadata": {},
   "outputs": [
    {
     "name": "stdout",
     "output_type": "stream",
     "text": [
      "{1, 2, 3, 5}\n"
     ]
    }
   ],
   "source": [
    "collection = (2, 3, 2, 3, 1, 2, 5)\n",
    "unique_elements = set(collection)\n",
    "print(unique_elements)"
   ]
  },
  {
   "cell_type": "markdown",
   "metadata": {},
   "source": [
    "**16. Set Operations**\n",
    "\n",
    "Assign `(2, 3, 2)` to `set_a` and `(1, 2, 3)` to `set_b`. Obtain the following:\n",
    "\n",
    "*   Union of `set_a` and `set_b`\n",
    "*   Intersection of `set_a` and `set_b`\n",
    "*   Difference of `set_a` to `set_b` using the `difference()` method"
   ]
  },
  {
   "cell_type": "code",
   "execution_count": 46,
   "metadata": {},
   "outputs": [
    {
     "name": "stdout",
     "output_type": "stream",
     "text": [
      "Union: {1, 2, 3}\n",
      "Intersection: {2, 3}\n",
      "Difference: set()\n"
     ]
    }
   ],
   "source": [
    "set_a = {2, 3, 2}\n",
    "set_b = {1, 2, 3}\n",
    "\n",
    "# Union of set_a and set_b\n",
    "union_set = set_a | set_b\n",
    "print(f\"Union: {union_set}\")\n",
    "\n",
    "# Intersection of set_a and set_b\n",
    "intersection_set = set_a & set_b\n",
    "print(f\"Intersection: {intersection_set}\")\n",
    "\n",
    "# Difference of set_a to set_b\n",
    "difference_set = set_a.difference(set_b)\n",
    "print(f\"Difference: {difference_set}\")"
   ]
  },
  {
   "cell_type": "markdown",
   "metadata": {},
   "source": [
    "**17. Dictionary Creation and Key Printing**\n",
    "\n",
    "Create a dictionary that has the keys \"A\", \"B\", \"C\" with values \"a\", \"b\", \"c\" individually. Print all the keys in the dictionary.\n"
   ]
  },
  {
   "cell_type": "code",
   "execution_count": 47,
   "metadata": {},
   "outputs": [
    {
     "name": "stdout",
     "output_type": "stream",
     "text": [
      "['A', 'B', 'C']\n"
     ]
    }
   ],
   "source": [
    "my_dict = {\"A\": \"a\", \"B\": \"b\", \"C\": \"c\"}\n",
    "print(list(my_dict.keys()))"
   ]
  },
  {
   "cell_type": "markdown",
   "metadata": {},
   "source": [
    "**18. Checking for Key Existence**\n",
    "\n",
    "Check if key \"B\" is in the dictionary defined in Problem 17.\n",
    "\n"
   ]
  },
  {
   "cell_type": "code",
   "execution_count": 48,
   "metadata": {},
   "outputs": [
    {
     "name": "stdout",
     "output_type": "stream",
     "text": [
      "True\n"
     ]
    }
   ],
   "source": [
    "is_key_present = \"B\" in my_dict\n",
    "print(is_key_present)"
   ]
  },
  {
   "cell_type": "markdown",
   "metadata": {},
   "source": [
    "**19. Array Creation and Calculations**\n",
    "\n",
    "Create arrays *x* and *y*, where *x* = [1, 4, 3, 2, 9, 4] and *y* = [2, 3, 4, 1, 2, 3]. Compute the assignments from Problem 3 (u = x + y, v = x * y, w = x / y, etc.), assuming element-wise operations.\n"
   ]
  },
  {
   "cell_type": "code",
   "execution_count": 49,
   "metadata": {},
   "outputs": [
    {
     "name": "stdout",
     "output_type": "stream",
     "text": [
      "u = [ 3  7  7  3 11  7]\n",
      "v = [ 2 12 12  2 18 12]\n",
      "w = [0.5        1.33333333 0.75       2.         4.5        1.33333333]\n",
      "z = [ 0.84147098 -0.7568025   0.14112001  0.90929743  0.41211849 -0.7568025 ]\n",
      "r = [ 6.73176788 -6.05441996  1.12896006  7.27437941  3.29694788 -6.05441996]\n",
      "s = [ 4.54648713 -2.68286459 -2.68286459  4.54648713 -3.75493623 -2.68286459]\n",
      "p = [ 1 64 81  2 81 64]\n"
     ]
    }
   ],
   "source": [
    "import numpy as np\n",
    "\n",
    "# Create arrays x and y\n",
    "x = np.array([1, 4, 3, 2, 9, 4])\n",
    "y = np.array([2, 3, 4, 1, 2, 3])\n",
    "\n",
    "# Perform element-wise operations\n",
    "u = x + y\n",
    "v = x * y\n",
    "w = x / y\n",
    "z = np.sin(x)\n",
    "r = 8 * np.sin(x)\n",
    "s = 5 * np.sin(x * y)\n",
    "p = x ** y\n",
    "\n",
    "print(\"u =\", u)\n",
    "print(\"v =\", v)\n",
    "print(\"w =\", w)\n",
    "print(\"z =\", z)\n",
    "print(\"r =\", r)\n",
    "print(\"s =\", s)\n",
    "print(\"p =\", p)"
   ]
  },
  {
   "cell_type": "markdown",
   "metadata": {},
   "source": [
    "**20. Evenly Spaced Array**\n",
    "\n",
    "Generate an array with size 100 evenly spaced between -10 to 10 using the `linspace` function in NumPy.\n"
   ]
  },
  {
   "cell_type": "code",
   "execution_count": 50,
   "metadata": {},
   "outputs": [
    {
     "name": "stdout",
     "output_type": "stream",
     "text": [
      "[-10.          -9.7979798   -9.5959596   -9.39393939  -9.19191919\n",
      "  -8.98989899  -8.78787879  -8.58585859  -8.38383838  -8.18181818\n",
      "  -7.97979798  -7.77777778  -7.57575758  -7.37373737  -7.17171717\n",
      "  -6.96969697  -6.76767677  -6.56565657  -6.36363636  -6.16161616\n",
      "  -5.95959596  -5.75757576  -5.55555556  -5.35353535  -5.15151515\n",
      "  -4.94949495  -4.74747475  -4.54545455  -4.34343434  -4.14141414\n",
      "  -3.93939394  -3.73737374  -3.53535354  -3.33333333  -3.13131313\n",
      "  -2.92929293  -2.72727273  -2.52525253  -2.32323232  -2.12121212\n",
      "  -1.91919192  -1.71717172  -1.51515152  -1.31313131  -1.11111111\n",
      "  -0.90909091  -0.70707071  -0.50505051  -0.3030303   -0.1010101\n",
      "   0.1010101    0.3030303    0.50505051   0.70707071   0.90909091\n",
      "   1.11111111   1.31313131   1.51515152   1.71717172   1.91919192\n",
      "   2.12121212   2.32323232   2.52525253   2.72727273   2.92929293\n",
      "   3.13131313   3.33333333   3.53535354   3.73737374   3.93939394\n",
      "   4.14141414   4.34343434   4.54545455   4.74747475   4.94949495\n",
      "   5.15151515   5.35353535   5.55555556   5.75757576   5.95959596\n",
      "   6.16161616   6.36363636   6.56565657   6.76767677   6.96969697\n",
      "   7.17171717   7.37373737   7.57575758   7.77777778   7.97979798\n",
      "   8.18181818   8.38383838   8.58585859   8.78787879   8.98989899\n",
      "   9.19191919   9.39393939   9.5959596    9.7979798   10.        ]\n"
     ]
    }
   ],
   "source": [
    "evenly_spaced = np.linspace(-10, 10, 100)\n",
    "print(evenly_spaced)"
   ]
  },
  {
   "cell_type": "markdown",
   "metadata": {},
   "source": [
    "**21. Filtering Array Elements**\n",
    "\n",
    "Let `array_a` be an array [-1, 0, 1, 2, 0, 3]. Write a command that will return an array consisting of all the elements of `array_a` that are larger than zero. Hint: Use a logical expression as the index of the array.\n"
   ]
  },
  {
   "cell_type": "code",
   "execution_count": 51,
   "metadata": {},
   "outputs": [
    {
     "name": "stdout",
     "output_type": "stream",
     "text": [
      "[1 2 3]\n"
     ]
    }
   ],
   "source": [
    "array_a = np.array([-1, 0, 1, 2, 0, 3])\n",
    "filtered_array = array_a[array_a > 0]\n",
    "print(filtered_array)"
   ]
  },
  {
   "cell_type": "markdown",
   "metadata": {},
   "source": [
    "**22. Matrix Transpose**\n",
    "\n",
    "Create an array (matrix) *y* :\n",
    "$$\n",
    "y = \\begin{pmatrix}\n",
    "3 & 5 & 3 \\\\\n",
    "2 & 2 & 5 \\\\\n",
    "3 & 8 & 9\n",
    "\\end{pmatrix}\n",
    "$$\n",
    "\n",
    "and calculate its transpose."
   ]
  },
  {
   "cell_type": "code",
   "execution_count": 52,
   "metadata": {},
   "outputs": [
    {
     "name": "stdout",
     "output_type": "stream",
     "text": [
      "Original matrix:\n",
      "[[3 5 3]\n",
      " [2 2 5]\n",
      " [3 8 9]]\n",
      "\n",
      "Transposed matrix:\n",
      "[[3 2 3]\n",
      " [5 2 8]\n",
      " [3 5 9]]\n"
     ]
    }
   ],
   "source": [
    "# Create the matrix\n",
    "y = np.array([[3, 5, 3],\n",
    "              [2, 2, 5],\n",
    "              [3, 8, 9]])\n",
    "\n",
    "# Calculate transpose\n",
    "y_transpose = y.transpose()\n",
    "# or alternatively: y_transpose = y.T\n",
    "\n",
    "print(\"Original matrix:\")\n",
    "print(y)\n",
    "print(\"\\nTransposed matrix:\")\n",
    "print(y_transpose)"
   ]
  },
  {
   "cell_type": "markdown",
   "metadata": {},
   "source": [
    "**23. Zero Array Creation**\n",
    "\n",
    "Create a 2 x 4 zero array.\n",
    "\n"
   ]
  },
  {
   "cell_type": "code",
   "execution_count": 53,
   "metadata": {},
   "outputs": [
    {
     "name": "stdout",
     "output_type": "stream",
     "text": [
      "[[0. 0. 0. 0.]\n",
      " [0. 0. 0. 0.]]\n"
     ]
    }
   ],
   "source": [
    "zero_array = np.zeros((2, 4))\n",
    "print(zero_array)"
   ]
  },
  {
   "cell_type": "markdown",
   "metadata": {},
   "source": [
    "**24. Column Modification**\n",
    "\n",
    "Change the second column in the array created in Problem 23 to 1.\n"
   ]
  },
  {
   "cell_type": "code",
   "execution_count": 54,
   "metadata": {},
   "outputs": [
    {
     "name": "stdout",
     "output_type": "stream",
     "text": [
      "[[0. 1. 0. 0.]\n",
      " [0. 1. 0. 0.]]\n"
     ]
    }
   ],
   "source": [
    "zero_array[:, 1] = 1\n",
    "print(zero_array)"
   ]
  },
  {
   "cell_type": "markdown",
   "metadata": {},
   "source": [
    "**25. Clearing Jupyter Notebook Variables**\n",
    "\n",
    "Write a magic command to clear all the variables in the Jupyter notebook."
   ]
  },
  {
   "cell_type": "code",
   "execution_count": 55,
   "metadata": {},
   "outputs": [],
   "source": [
    "%reset -f"
   ]
  },
  {
   "cell_type": "markdown",
   "metadata": {},
   "source": [
    "# --------- CHAP 3 ------------"
   ]
  },
  {
   "cell_type": "code",
   "execution_count": 56,
   "metadata": {},
   "outputs": [
    {
     "name": "stdout",
     "output_type": "stream",
     "text": [
      "Test cases for my_sinh:\n",
      "my_sinh(0) = 0.0\n",
      "my_sinh(1) = 1.1752011936438014\n",
      "my_sinh(2) = 3.626860407847019\n",
      "\n"
     ]
    }
   ],
   "source": [
    "import numpy as np\n",
    "import math\n",
    "\n",
    "# 1. Hyperbolic Sine Function\n",
    "def my_sinh(x):\n",
    "    \"\"\"Computes the hyperbolic sine of x.\n",
    "\n",
    "    Args:\n",
    "        x: A float.\n",
    "\n",
    "    Returns:\n",
    "        The hyperbolic sine of x.\n",
    "    \"\"\"\n",
    "    y = (math.exp(x) - math.exp(-x)) / 2\n",
    "    return y\n",
    "\n",
    "# Test cases for my_sinh\n",
    "print(\"Test cases for my_sinh:\")\n",
    "print(f\"my_sinh(0) = {my_sinh(0)}\")\n",
    "print(f\"my_sinh(1) = {my_sinh(1)}\")\n",
    "print(f\"my_sinh(2) = {my_sinh(2)}\")\n",
    "print()\n"
   ]
  },
  {
   "cell_type": "code",
   "execution_count": 57,
   "metadata": {},
   "outputs": [
    {
     "name": "stdout",
     "output_type": "stream",
     "text": [
      "Test cases for my_checker_board:\n",
      "my_checker_board(1) = 1\n",
      "my_checker_board(2) = \n",
      "[[1 0]\n",
      " [0 1]]\n",
      "my_checker_board(5) = \n",
      "[[1 0 1 0 1]\n",
      " [0 1 0 1 0]\n",
      " [1 0 1 0 1]\n",
      " [0 1 0 1 0]\n",
      " [1 0 1 0 1]]\n"
     ]
    }
   ],
   "source": [
    "# 2. Checkerboard Array Function\n",
    "def my_checker_board(n):\n",
    "    \"\"\"Creates an n x n checkerboard array.\n",
    "\n",
    "    Args:\n",
    "        n: A positive integer representing the size of the array.\n",
    "\n",
    "    Returns:\n",
    "        A NumPy array representing the checkerboard, or the integer 1 if n=1.\n",
    "    \"\"\"\n",
    "    if n == 1:\n",
    "        return 1\n",
    "    else:\n",
    "        m = np.zeros((n, n), dtype=int)  # Initialize with zeros\n",
    "        for i in range(n):\n",
    "            for j in range(n):\n",
    "                if (i + j) % 2 == 0:\n",
    "                    m[i, j] = 1\n",
    "        return m\n",
    "\n",
    "# Test cases for my_checker_board\n",
    "print(\"Test cases for my_checker_board:\")\n",
    "print(f\"my_checker_board(1) = {my_checker_board(1)}\")\n",
    "print(f\"my_checker_board(2) = \\n{my_checker_board(2)}\")\n",
    "print(f\"my_checker_board(5) = \\n{my_checker_board(5)}\")\n"
   ]
  },
  {
   "cell_type": "code",
   "execution_count": 58,
   "metadata": {},
   "outputs": [
    {
     "name": "stdout",
     "output_type": "stream",
     "text": [
      "Test cases for my_triangle:\n",
      "my_triangle(1, 1) = 0.5\n",
      "my_triangle(2, 1) = 1.0\n",
      "my_triangle(12, 5) = 30.0\n",
      "\n"
     ]
    }
   ],
   "source": [
    "# 3. Triangle Area Function\n",
    "def my_triangle(b, h):\n",
    "    \"\"\"Calculates the area of a triangle.\n",
    "\n",
    "    Args:\n",
    "        b: The base of the triangle (float).\n",
    "        h: The height of the triangle (float).\n",
    "\n",
    "    Returns:\n",
    "        The area of the triangle (float).\n",
    "    \"\"\"\n",
    "    area = 0.5 * b * h\n",
    "    return area\n",
    "\n",
    "# Test cases for my_triangle\n",
    "print(\"Test cases for my_triangle:\")\n",
    "print(f\"my_triangle(1, 1) = {my_triangle(1, 1)}\")\n",
    "print(f\"my_triangle(2, 1) = {my_triangle(2, 1)}\")\n",
    "print(f\"my_triangle(12, 5) = {my_triangle(12, 5)}\")\n",
    "print()"
   ]
  },
  {
   "cell_type": "code",
   "execution_count": 59,
   "metadata": {},
   "outputs": [
    {
     "name": "stdout",
     "output_type": "stream",
     "text": [
      "Test cases for my_split_matrix:\n",
      "Input m:\n",
      "[[1 2 3]\n",
      " [4 5 6]\n",
      " [7 8 9]]\n",
      "Output m1:\n",
      "[[1 2]\n",
      " [4 5]\n",
      " [7 8]]\n",
      "Output m2:\n",
      "[[3]\n",
      " [6]\n",
      " [9]]\n",
      "\n",
      "Input m:\n",
      "[[1. 1. 1. 1. 1.]\n",
      " [1. 1. 1. 1. 1.]\n",
      " [1. 1. 1. 1. 1.]\n",
      " [1. 1. 1. 1. 1.]\n",
      " [1. 1. 1. 1. 1.]]\n",
      "Output m1:\n",
      "[[1. 1. 1.]\n",
      " [1. 1. 1.]\n",
      " [1. 1. 1.]\n",
      " [1. 1. 1.]\n",
      " [1. 1. 1.]]\n",
      "Output m2:\n",
      "[[1. 1.]\n",
      " [1. 1.]\n",
      " [1. 1.]\n",
      " [1. 1.]\n",
      " [1. 1.]]\n",
      "\n",
      "Invalid input: Input must be a 2D numpy array with at least 2 columns\n",
      "Invalid input: Input must be a 2D numpy array with at least 2 columns\n"
     ]
    }
   ],
   "source": [
    "# 4. Matrix Splitting Function\n",
    "def my_split_matrix(m):\n",
    "    \"\"\"Splits a matrix into two halves.\n",
    "\n",
    "    Args:\n",
    "        m: A NumPy array (matrix) with at least two columns.\n",
    "\n",
    "    Returns:\n",
    "        A list [m1, m2] where m1 is the left half and m2 is the right half.\n",
    "        The middle column goes to m1 if there's an odd number of columns.\n",
    "        Returns None if the input is invalid.\n",
    "    \"\"\"\n",
    "    if not isinstance(m, np.ndarray) or m.ndim != 2 or m.shape[1] < 2:\n",
    "      print(\"Invalid input: Input must be a 2D numpy array with at least 2 columns\")\n",
    "      return None\n",
    "\n",
    "    num_cols = m.shape[1]\n",
    "    midpoint = (num_cols + 1) // 2  # Integer division to handle odd columns\n",
    "\n",
    "    m1 = m[:, :midpoint]\n",
    "    m2 = m[:, midpoint:]\n",
    "    return [m1, m2]\n",
    "\n",
    "# Test cases for my_split_matrix\n",
    "print(\"Test cases for my_split_matrix:\")\n",
    "m = np.array([[1, 2, 3], [4, 5, 6], [7, 8, 9]])\n",
    "m1, m2 = my_split_matrix(m)\n",
    "print(\"Input m:\")\n",
    "print(m)\n",
    "print(\"Output m1:\")\n",
    "print(m1)\n",
    "print(\"Output m2:\")\n",
    "print(m2)\n",
    "print()\n",
    "\n",
    "m = np.ones((5, 5))\n",
    "m1, m2 = my_split_matrix(m)\n",
    "print(\"Input m:\")\n",
    "print(m)\n",
    "print(\"Output m1:\")\n",
    "print(m1)\n",
    "print(\"Output m2:\")\n",
    "print(m2)\n",
    "print()\n",
    "\n",
    "#Test case for invalid input\n",
    "m = np.array([1,2,3])\n",
    "my_split_matrix(m)\n",
    "\n",
    "m = [[1,2],[3,4]]\n",
    "my_split_matrix(m)"
   ]
  },
  {
   "cell_type": "code",
   "execution_count": 60,
   "metadata": {},
   "outputs": [],
   "source": [
    "import numpy as np\n",
    "import math\n",
    "\n",
    "def my_cylinder(r, h):\n",
    "    \"\"\"\n",
    "    Calculate surface area and volume of a cylinder\n",
    "    Args:\n",
    "        r (float): radius of the cylinder\n",
    "        h (float): height of the cylinder\n",
    "    Returns:\n",
    "        list: [surface_area, volume]\n",
    "    \"\"\"\n",
    "    # Calculate surface area: 2πr² + 2πrh\n",
    "    surface_area = 2 * math.pi * r**2 + 2 * math.pi * r * h\n",
    "    \n",
    "    # Calculate volume: πr²h\n",
    "    volume = math.pi * r**2 * h\n",
    "    \n",
    "    return [surface_area, volume]"
   ]
  },
  {
   "cell_type": "code",
   "execution_count": 61,
   "metadata": {},
   "outputs": [],
   "source": [
    "def my_n_odds(a):\n",
    "    \"\"\"\n",
    "    Count odd numbers in an array\n",
    "    Args:\n",
    "        a (array): one-dimensional array of floats\n",
    "    Returns:\n",
    "        int: count of odd numbers\n",
    "    \"\"\"\n",
    "    # Convert to numpy array if not already\n",
    "    arr = np.array(a)\n",
    "    \n",
    "    # Count numbers where modulo 2 equals 1\n",
    "    return np.sum(arr.astype(int) % 2 == 1)\n"
   ]
  },
  {
   "cell_type": "code",
   "execution_count": 62,
   "metadata": {},
   "outputs": [
    {
     "name": "stdout",
     "output_type": "stream",
     "text": [
      "Testing my_cylinder:\n",
      "[37.69911184307752, 15.707963267948966]\n",
      "[75.39822368615503, 50.26548245743669]\n",
      "\n",
      "Testing my_n_odds:\n",
      "50\n",
      "0\n",
      "\n",
      "Testing my_twos:\n",
      "[[2 2]\n",
      " [2 2]\n",
      " [2 2]]\n",
      "[[2 2 2 2]]\n"
     ]
    }
   ],
   "source": [
    "def my_twos(m, n):\n",
    "    \"\"\"\n",
    "    Create an m × n array filled with twos\n",
    "    Args:\n",
    "        m (int): number of rows\n",
    "        n (int): number of columns\n",
    "    Returns:\n",
    "        numpy.ndarray: m × n array of twos\n",
    "    \"\"\"\n",
    "    # Use numpy's full function to create array of twos\n",
    "    return np.full((m, n), 2)\n",
    "\n",
    "# -------------------     Test cases -------------------------------------\n",
    "print(\"Testing my_cylinder:\")\n",
    "print(my_cylinder(1, 5))  # Expected: [37.6991, 15.7080]\n",
    "print(my_cylinder(2, 4))  # Expected: [62.8319, 37.6991]\n",
    "\n",
    "print(\"\\nTesting my_n_odds:\")\n",
    "print(my_n_odds(np.arange(100)))  # Expected: 50\n",
    "print(my_n_odds(np.arange(2, 100, 2)))  # Expected: 0\n",
    "\n",
    "print(\"\\nTesting my_twos:\")\n",
    "print(my_twos(3, 2))  # Expected: [[2, 2], [2, 2], [2, 2]]\n",
    "print(my_twos(1, 4))  # Expected: [[2, 2, 2, 2]]"
   ]
  },
  {
   "cell_type": "code",
   "execution_count": 63,
   "metadata": {},
   "outputs": [],
   "source": [
    "# 8. Lambda function for subtraction\n",
    "subtract = lambda x, y: x - y\n"
   ]
  },
  {
   "cell_type": "code",
   "execution_count": 64,
   "metadata": {},
   "outputs": [],
   "source": [
    "# 9. String concatenation function\n",
    "def add_string(s1, s2):\n",
    "    \"\"\"\n",
    "    Concatenates two strings\n",
    "    Args:\n",
    "        s1 (str): first string\n",
    "        s2 (str): second string\n",
    "    Returns:\n",
    "        str: concatenated string\n",
    "    \"\"\"\n",
    "    return s1 + s2"
   ]
  },
  {
   "cell_type": "code",
   "execution_count": 65,
   "metadata": {},
   "outputs": [
    {
     "ename": "IndentationError",
     "evalue": "expected an indented block after function definition on line 3 (616331257.py, line 4)",
     "output_type": "error",
     "traceback": [
      "\u001b[0;36m  Cell \u001b[0;32mIn[65], line 4\u001b[0;36m\u001b[0m\n\u001b[0;31m    no_indent = \"This will raise IndentationError\"\u001b[0m\n\u001b[0m    ^\u001b[0m\n\u001b[0;31mIndentationError\u001b[0m\u001b[0;31m:\u001b[0m expected an indented block after function definition on line 3\n"
     ]
    }
   ],
   "source": [
    "fun()\n",
    "\n",
    "def bad_function():\n",
    "no_indent = \"This will raise IndentationError\""
   ]
  },
  {
   "cell_type": "code",
   "execution_count": 66,
   "metadata": {},
   "outputs": [],
   "source": [
    "# 11. Greeting function\n",
    "def greeting(name, age):\n",
    "    \"\"\"\n",
    "    Creates a personalized greeting\n",
    "    Args:\n",
    "        name (str): person's name\n",
    "        age (float): person's age\n",
    "    Returns:\n",
    "        str: formatted greeting message\n",
    "    \"\"\"\n",
    "    return f\"Hi, my name is {name} and I am {int(age)} years old.\"\n"
   ]
  },
  {
   "cell_type": "code",
   "execution_count": 67,
   "metadata": {},
   "outputs": [],
   "source": [
    "# 12. Donut area function\n",
    "def my_donut_area(r1, r2):\n",
    "    \"\"\"\n",
    "    Calculates the area of a donut shape between two circles\n",
    "    Args:\n",
    "        r1 (array): radius of inner circles\n",
    "        r2 (array): radius of outer circles (r2 > r1)\n",
    "    Returns:\n",
    "        array: areas of donut shapes\n",
    "    \"\"\"\n",
    "    # Convert inputs to numpy arrays\n",
    "    r1 = np.array(r1)\n",
    "    r2 = np.array(r2)\n",
    "    \n",
    "    # Calculate areas using π(R² - r²)\n",
    "    return np.pi * (r2**2 - r1**2)\n"
   ]
  },
  {
   "cell_type": "code",
   "execution_count": 68,
   "metadata": {},
   "outputs": [],
   "source": [
    "# 13. Within tolerance function\n",
    "def my_within_tolerance(A, a, tol):\n",
    "    \"\"\"\n",
    "    Finds indices where absolute difference is within tolerance\n",
    "    Args:\n",
    "        A (array): input array\n",
    "        a (float): reference value\n",
    "        tol (float): tolerance value\n",
    "    Returns:\n",
    "        array: indices where |A - a| < tol\n",
    "    \"\"\"\n",
    "    A = np.array(A)\n",
    "    return np.where(np.abs(A - a) < tol)[0]\n"
   ]
  },
  {
   "cell_type": "markdown",
   "metadata": {},
   "source": [
    "### ---------- TESTING -----------"
   ]
  },
  {
   "cell_type": "code",
   "execution_count": 70,
   "metadata": {},
   "outputs": [
    {
     "name": "stdout",
     "output_type": "stream",
     "text": [
      "Testing subtract lambda:\n",
      "2\n",
      "3\n",
      "\n",
      "Testing add_string:\n",
      "Programming is fun!\n",
      "\n",
      "Testing greeting:\n",
      "Hi, my name is John and I am 26 years old.\n",
      "Hi, my name is Kate and I am 19 years old.\n",
      "\n",
      "Testing my_donut_area:\n",
      "[ 9.42477796 37.69911184 50.26548246]\n",
      "\n",
      "Testing my_within_tolerance:\n",
      "[0 1 4]\n"
     ]
    }
   ],
   "source": [
    "# Test cases and examples\n",
    "if __name__ == \"__main__\":\n",
    "    # Test subtract lambda\n",
    "    print(\"Testing subtract lambda:\")\n",
    "    print(subtract(5, 3))  # Expected: 2\n",
    "    print(subtract(10, 7))  # Expected: 3\n",
    "    \n",
    "    # Test add_string\n",
    "    print(\"\\nTesting add_string:\")\n",
    "    s1 = add_string(\"Programming\", \" \")\n",
    "    s2 = add_string(\"is \", \"fun!\")\n",
    "    print(add_string(s1, s2))  # Expected: \"Programming is fun!\"\n",
    "    \n",
    "    # Test greeting\n",
    "    print(\"\\nTesting greeting:\")\n",
    "    print(greeting(\"John\", 26))  # Expected: \"Hi, my name is John and I am 26 years old.\"\n",
    "    print(greeting(\"Kate\", 19))  # Expected: \"Hi, my name is Kate and I am 19 years old.\"\n",
    "    \n",
    "    # Test my_donut_area\n",
    "    print(\"\\nTesting my_donut_area:\")\n",
    "    r1_test = np.array([1, 2, 3])\n",
    "    r2_test = np.array([2, 4, 5])\n",
    "    print(my_donut_area(r1_test, r2_test))\n",
    "    \n",
    "    # Test my_within_tolerance\n",
    "    print(\"\\nTesting my_within_tolerance:\")\n",
    "    A_test = np.array([1.0, 1.1, 2.0, 1.2, 0.9])\n",
    "    print(my_within_tolerance(A_test, 1.0, 0.15))  # Expected: indices where values are within 0.15 of 1.0"
   ]
  },
  {
   "cell_type": "code",
   "execution_count": 71,
   "metadata": {},
   "outputs": [
    {
     "name": "stdout",
     "output_type": "stream",
     "text": [
      "Example 1: Basic bounding\n",
      "Input array: [0.5 1.5 2.5 3.5 4.5]\n",
      "Bounded (1.0 to 3.0): [1.  1.5 2.5 3.  3. ]\n",
      "\n",
      "Example 2: Array with values within bounds\n",
      "Input array: [1.2 1.5 1.8 2.  2.2]\n",
      "Bounded (1.0 to 2.5): [1.2 1.5 1.8 2.  2.2]\n",
      "\n",
      "Example 3: Extreme values\n",
      "Input array: [-5.  0.  5. 10. 15.]\n",
      "Bounded (-2.0 to 7.0): [-2.  0.  5.  7.  7.]\n"
     ]
    }
   ],
   "source": [
    "import numpy as np\n",
    "\n",
    "def bounding_array(A, top, bottom):\n",
    "    \"\"\"\n",
    "    Bound array A between bottom and top values\n",
    "    Args:\n",
    "        A (array): input array\n",
    "        top (float): upper bound\n",
    "        bottom (float): lower bound (must be less than top)\n",
    "    Returns:\n",
    "        array: bounded array where values are clipped to [bottom, top] range\n",
    "    \"\"\"\n",
    "    # Convert input to numpy array if it isn't already\n",
    "    A = np.array(A)\n",
    "    \n",
    "    # Use numpy's clip function to bound the array\n",
    "    return np.clip(A, bottom, top)\n",
    "\n",
    "# Test cases with examples\n",
    "if __name__ == \"__main__\":\n",
    "    print(\"Example 1: Basic bounding\")\n",
    "    test_array = np.array([0.5, 1.5, 2.5, 3.5, 4.5])\n",
    "    result = bounding_array(test_array, 3.0, 1.0)\n",
    "    print(f\"Input array: {test_array}\")\n",
    "    print(f\"Bounded (1.0 to 3.0): {result}\")\n",
    "    # Expected: [1.0, 1.5, 2.5, 3.0, 3.0]\n",
    "    \n",
    "    print(\"\\nExample 2: Array with values within bounds\")\n",
    "    test_array2 = np.array([1.2, 1.5, 1.8, 2.0, 2.2])\n",
    "    result2 = bounding_array(test_array2, 2.5, 1.0)\n",
    "    print(f\"Input array: {test_array2}\")\n",
    "    print(f\"Bounded (1.0 to 2.5): {result2}\")\n",
    "    # Expected: original values (all within bounds)\n",
    "    \n",
    "    print(\"\\nExample 3: Extreme values\")\n",
    "    test_array3 = np.array([-5.0, 0.0, 5.0, 10.0, 15.0])\n",
    "    result3 = bounding_array(test_array3, 7.0, -2.0)\n",
    "    print(f\"Input array: {test_array3}\")\n",
    "    print(f\"Bounded (-2.0 to 7.0): {result3}\")\n",
    "    # Expected: [-2.0, 0.0, 5.0, 7.0, 7.0]"
   ]
  }
 ],
 "metadata": {
  "kernelspec": {
   "display_name": "Python 3 (ipykernel)",
   "language": "python",
   "name": "python3"
  },
  "language_info": {
   "codemirror_mode": {
    "name": "ipython",
    "version": 3
   },
   "file_extension": ".py",
   "mimetype": "text/x-python",
   "name": "python",
   "nbconvert_exporter": "python",
   "pygments_lexer": "ipython3",
   "version": "3.12.1"
  }
 },
 "nbformat": 4,
 "nbformat_minor": 2
}
